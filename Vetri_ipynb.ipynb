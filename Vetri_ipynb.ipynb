{
  "nbformat": 4,
  "nbformat_minor": 0,
  "metadata": {
    "colab": {
      "provenance": [],
      "authorship_tag": "ABX9TyPKY3xpwNpu3HN6MTJiTXFS",
      "include_colab_link": true
    },
    "kernelspec": {
      "name": "python3",
      "display_name": "Python 3"
    },
    "language_info": {
      "name": "python"
    }
  },
  "cells": [
    {
      "cell_type": "markdown",
      "metadata": {
        "id": "view-in-github",
        "colab_type": "text"
      },
      "source": [
        "<a href=\"https://colab.research.google.com/github/Zodi25/VetriSelvan.-G/blob/main/Vetri_ipynb.ipynb\" target=\"_parent\"><img src=\"https://colab.research.google.com/assets/colab-badge.svg\" alt=\"Open In Colab\"/></a>"
      ]
    },
    {
      "cell_type": "code",
      "execution_count": null,
      "metadata": {
        "colab": {
          "base_uri": "https://localhost:8080/"
        },
        "id": "IXQXb8gWNj8B",
        "outputId": "3ccba929-2567-40ca-b3bc-42ca5264cbd4"
      },
      "outputs": [
        {
          "output_type": "stream",
          "name": "stdout",
          "text": [
            "RISK ASSESSMENT REPORT\n",
            "==============================\n",
            "Risk: Data breach\n",
            "Likelihood: 5\n",
            "Impact: 5\n",
            "Risk Score: 25 (High)\n",
            "Strategy: Immediate action required.\n",
            "\n",
            "Risk: Server downtime\n",
            "Likelihood: 4\n",
            "Impact: 3\n",
            "Risk Score: 12 (Medium)\n",
            "Strategy: Monitor closely and have contingency plans.\n",
            "\n",
            "Risk: Late delivery\n",
            "Likelihood: 2\n",
            "Impact: 2\n",
            "Risk Score: 4 (Low)\n",
            "Strategy: Low risk - monitor periodically.\n",
            "\n",
            "Risk: Budget overrun\n",
            "Likelihood: 3\n",
            "Impact: 4\n",
            "Risk Score: 12 (Medium)\n",
            "Strategy: Monitor closely and have contingency plans.\n",
            "\n"
          ]
        }
      ],
      "source": [
        "from IIPythochimportPythochimport get_ipython\n",
        "from IPyIPythonthon ch.display import display\n",
        "# %%\n",
        "class Risk:\n",
        "    def __init__(self, name, likelihood, impact):\n",
        "        self.name = name\n",
        "        self.likelihood = likelihood  # 1 (Low) to 5 (High)\n",
        "        self.impact = impact    # 1 (Low) to 5 (High)\n",
        "        self.score = likelihood * impact\n",
        "        self.category = self.categorize_risk()\n",
        "\n",
        "    def categorize_risk(self):\n",
        "        if self.score >= 15:\n",
        "            return \"High\"\n",
        "        elif self.score >= 5:\n",
        "            return \"Medium\"\n",
        "        else:\n",
        "            return \"Low\"\n",
        "\n",
        "    def mitigation_strategy(self):\n",
        "        if self.category == \"High\":\n",
        "            return \"Immediate action required.\"\n",
        "        elif self.category == \"Medium\":\n",
        "            return \"Monitor closely and have contingency plans.\"\n",
        "        else:\n",
        "            return \"Low risk - monitor periodically.\"\n",
        "\n",
        "    def __str__(self):\n",
        "        return (f\"Risk: {self.name}\\n\"\n",
        "                f\"Likelihood: {self.likelihood}\\n\"\n",
        "                f\"Impact: {self.impact}\\n\"\n",
        "                f\"Risk Score: {self.score} ({self.category})\\n\"\n",
        "                f\"Strategy: {self.mitigation_strategy()}\\n\")\n",
        "\n",
        "if __name__ == \"__main__\":\n",
        "    risks = [\n",
        "        Risk(\"Data breach\", 5, 5),\n",
        "        Risk(\"Server downtime\", 4, 3),\n",
        "        Risk(\"Late delivery\", 2, 2),\n",
        "        Risk(\"Budget overrun\", 3, 4),\n",
        "    ]\n",
        "\n",
        "    print(\"RISK ASSESSMENT REPORT\")\n",
        "    print(\"=\" * 30)\n",
        "    for risk in risks:\n",
        "        print(risk)"
      ]
    }
  ]
}